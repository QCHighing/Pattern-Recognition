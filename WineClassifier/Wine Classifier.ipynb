{
 "cells": [
  {
   "cell_type": "code",
   "execution_count": 1,
   "metadata": {},
   "outputs": [],
   "source": [
    "import pandas as pd\n",
    "import numpy as np\n",
    "import matplotlib.pyplot as plt"
   ]
  },
  {
   "cell_type": "markdown",
   "metadata": {},
   "source": [
    "# 1. 导入数据集"
   ]
  },
  {
   "cell_type": "markdown",
   "metadata": {},
   "source": [
    "## 1.1 读取文件 csv"
   ]
  },
  {
   "cell_type": "code",
   "execution_count": 2,
   "metadata": {},
   "outputs": [],
   "source": [
    "path = 'wine.csv'\n",
    "dataset = pd.read_csv(path)"
   ]
  },
  {
   "cell_type": "markdown",
   "metadata": {},
   "source": [
    "## 1.2 查看（首尾）数据"
   ]
  },
  {
   "cell_type": "code",
   "execution_count": 3,
   "metadata": {},
   "outputs": [
    {
     "data": {
      "text/html": [
       "<div>\n",
       "<style scoped>\n",
       "    .dataframe tbody tr th:only-of-type {\n",
       "        vertical-align: middle;\n",
       "    }\n",
       "\n",
       "    .dataframe tbody tr th {\n",
       "        vertical-align: top;\n",
       "    }\n",
       "\n",
       "    .dataframe thead th {\n",
       "        text-align: right;\n",
       "    }\n",
       "</style>\n",
       "<table border=\"1\" class=\"dataframe\">\n",
       "  <thead>\n",
       "    <tr style=\"text-align: right;\">\n",
       "      <th></th>\n",
       "      <th>class</th>\n",
       "      <th>alcohol</th>\n",
       "      <th>malic acid</th>\n",
       "      <th>ash</th>\n",
       "      <th>alcalinity of ash</th>\n",
       "      <th>magnesium</th>\n",
       "      <th>total phenols</th>\n",
       "      <th>flavanoids</th>\n",
       "      <th>nonflavanoid phenols</th>\n",
       "      <th>proanthocyanins</th>\n",
       "      <th>color intensity</th>\n",
       "      <th>hue</th>\n",
       "      <th>diluted wines</th>\n",
       "      <th>proline</th>\n",
       "    </tr>\n",
       "  </thead>\n",
       "  <tbody>\n",
       "    <tr>\n",
       "      <th>0</th>\n",
       "      <td>1</td>\n",
       "      <td>14.23</td>\n",
       "      <td>1.71</td>\n",
       "      <td>2.43</td>\n",
       "      <td>15.6</td>\n",
       "      <td>127</td>\n",
       "      <td>2.80</td>\n",
       "      <td>3.06</td>\n",
       "      <td>0.28</td>\n",
       "      <td>2.29</td>\n",
       "      <td>5.64</td>\n",
       "      <td>1.04</td>\n",
       "      <td>3.92</td>\n",
       "      <td>1065</td>\n",
       "    </tr>\n",
       "    <tr>\n",
       "      <th>1</th>\n",
       "      <td>1</td>\n",
       "      <td>13.20</td>\n",
       "      <td>1.78</td>\n",
       "      <td>2.14</td>\n",
       "      <td>11.2</td>\n",
       "      <td>100</td>\n",
       "      <td>2.65</td>\n",
       "      <td>2.76</td>\n",
       "      <td>0.26</td>\n",
       "      <td>1.28</td>\n",
       "      <td>4.38</td>\n",
       "      <td>1.05</td>\n",
       "      <td>3.40</td>\n",
       "      <td>1050</td>\n",
       "    </tr>\n",
       "    <tr>\n",
       "      <th>2</th>\n",
       "      <td>1</td>\n",
       "      <td>13.16</td>\n",
       "      <td>2.36</td>\n",
       "      <td>2.67</td>\n",
       "      <td>18.6</td>\n",
       "      <td>101</td>\n",
       "      <td>2.80</td>\n",
       "      <td>3.24</td>\n",
       "      <td>0.30</td>\n",
       "      <td>2.81</td>\n",
       "      <td>5.68</td>\n",
       "      <td>1.03</td>\n",
       "      <td>3.17</td>\n",
       "      <td>1185</td>\n",
       "    </tr>\n",
       "    <tr>\n",
       "      <th>3</th>\n",
       "      <td>1</td>\n",
       "      <td>14.37</td>\n",
       "      <td>1.95</td>\n",
       "      <td>2.50</td>\n",
       "      <td>16.8</td>\n",
       "      <td>113</td>\n",
       "      <td>3.85</td>\n",
       "      <td>3.49</td>\n",
       "      <td>0.24</td>\n",
       "      <td>2.18</td>\n",
       "      <td>7.80</td>\n",
       "      <td>0.86</td>\n",
       "      <td>3.45</td>\n",
       "      <td>1480</td>\n",
       "    </tr>\n",
       "    <tr>\n",
       "      <th>4</th>\n",
       "      <td>1</td>\n",
       "      <td>13.24</td>\n",
       "      <td>2.59</td>\n",
       "      <td>2.87</td>\n",
       "      <td>21.0</td>\n",
       "      <td>118</td>\n",
       "      <td>2.80</td>\n",
       "      <td>2.69</td>\n",
       "      <td>0.39</td>\n",
       "      <td>1.82</td>\n",
       "      <td>4.32</td>\n",
       "      <td>1.04</td>\n",
       "      <td>2.93</td>\n",
       "      <td>735</td>\n",
       "    </tr>\n",
       "  </tbody>\n",
       "</table>\n",
       "</div>"
      ],
      "text/plain": [
       "   class  alcohol  malic acid   ash  alcalinity of ash  magnesium  \\\n",
       "0      1    14.23        1.71  2.43               15.6        127   \n",
       "1      1    13.20        1.78  2.14               11.2        100   \n",
       "2      1    13.16        2.36  2.67               18.6        101   \n",
       "3      1    14.37        1.95  2.50               16.8        113   \n",
       "4      1    13.24        2.59  2.87               21.0        118   \n",
       "\n",
       "   total phenols  flavanoids  nonflavanoid phenols  proanthocyanins  \\\n",
       "0           2.80        3.06                  0.28             2.29   \n",
       "1           2.65        2.76                  0.26             1.28   \n",
       "2           2.80        3.24                  0.30             2.81   \n",
       "3           3.85        3.49                  0.24             2.18   \n",
       "4           2.80        2.69                  0.39             1.82   \n",
       "\n",
       "   color intensity   hue  diluted wines  proline  \n",
       "0             5.64  1.04           3.92     1065  \n",
       "1             4.38  1.05           3.40     1050  \n",
       "2             5.68  1.03           3.17     1185  \n",
       "3             7.80  0.86           3.45     1480  \n",
       "4             4.32  1.04           2.93      735  "
      ]
     },
     "execution_count": 3,
     "metadata": {},
     "output_type": "execute_result"
    }
   ],
   "source": [
    "dataset.head()"
   ]
  },
  {
   "cell_type": "code",
   "execution_count": 4,
   "metadata": {},
   "outputs": [
    {
     "data": {
      "text/html": [
       "<div>\n",
       "<style scoped>\n",
       "    .dataframe tbody tr th:only-of-type {\n",
       "        vertical-align: middle;\n",
       "    }\n",
       "\n",
       "    .dataframe tbody tr th {\n",
       "        vertical-align: top;\n",
       "    }\n",
       "\n",
       "    .dataframe thead th {\n",
       "        text-align: right;\n",
       "    }\n",
       "</style>\n",
       "<table border=\"1\" class=\"dataframe\">\n",
       "  <thead>\n",
       "    <tr style=\"text-align: right;\">\n",
       "      <th></th>\n",
       "      <th>class</th>\n",
       "      <th>alcohol</th>\n",
       "      <th>malic acid</th>\n",
       "      <th>ash</th>\n",
       "      <th>alcalinity of ash</th>\n",
       "      <th>magnesium</th>\n",
       "      <th>total phenols</th>\n",
       "      <th>flavanoids</th>\n",
       "      <th>nonflavanoid phenols</th>\n",
       "      <th>proanthocyanins</th>\n",
       "      <th>color intensity</th>\n",
       "      <th>hue</th>\n",
       "      <th>diluted wines</th>\n",
       "      <th>proline</th>\n",
       "    </tr>\n",
       "  </thead>\n",
       "  <tbody>\n",
       "    <tr>\n",
       "      <th>172</th>\n",
       "      <td>3</td>\n",
       "      <td>14.16</td>\n",
       "      <td>2.51</td>\n",
       "      <td>2.48</td>\n",
       "      <td>20.0</td>\n",
       "      <td>91</td>\n",
       "      <td>1.68</td>\n",
       "      <td>0.70</td>\n",
       "      <td>0.44</td>\n",
       "      <td>1.24</td>\n",
       "      <td>9.7</td>\n",
       "      <td>0.62</td>\n",
       "      <td>1.71</td>\n",
       "      <td>660</td>\n",
       "    </tr>\n",
       "    <tr>\n",
       "      <th>173</th>\n",
       "      <td>3</td>\n",
       "      <td>13.71</td>\n",
       "      <td>5.65</td>\n",
       "      <td>2.45</td>\n",
       "      <td>20.5</td>\n",
       "      <td>95</td>\n",
       "      <td>1.68</td>\n",
       "      <td>0.61</td>\n",
       "      <td>0.52</td>\n",
       "      <td>1.06</td>\n",
       "      <td>7.7</td>\n",
       "      <td>0.64</td>\n",
       "      <td>1.74</td>\n",
       "      <td>740</td>\n",
       "    </tr>\n",
       "    <tr>\n",
       "      <th>174</th>\n",
       "      <td>3</td>\n",
       "      <td>13.40</td>\n",
       "      <td>3.91</td>\n",
       "      <td>2.48</td>\n",
       "      <td>23.0</td>\n",
       "      <td>102</td>\n",
       "      <td>1.80</td>\n",
       "      <td>0.75</td>\n",
       "      <td>0.43</td>\n",
       "      <td>1.41</td>\n",
       "      <td>7.3</td>\n",
       "      <td>0.70</td>\n",
       "      <td>1.56</td>\n",
       "      <td>750</td>\n",
       "    </tr>\n",
       "    <tr>\n",
       "      <th>175</th>\n",
       "      <td>3</td>\n",
       "      <td>13.27</td>\n",
       "      <td>4.28</td>\n",
       "      <td>2.26</td>\n",
       "      <td>20.0</td>\n",
       "      <td>120</td>\n",
       "      <td>1.59</td>\n",
       "      <td>0.69</td>\n",
       "      <td>0.43</td>\n",
       "      <td>1.35</td>\n",
       "      <td>10.2</td>\n",
       "      <td>0.59</td>\n",
       "      <td>1.56</td>\n",
       "      <td>835</td>\n",
       "    </tr>\n",
       "    <tr>\n",
       "      <th>176</th>\n",
       "      <td>3</td>\n",
       "      <td>13.17</td>\n",
       "      <td>2.59</td>\n",
       "      <td>2.37</td>\n",
       "      <td>20.0</td>\n",
       "      <td>120</td>\n",
       "      <td>1.65</td>\n",
       "      <td>0.68</td>\n",
       "      <td>0.53</td>\n",
       "      <td>1.46</td>\n",
       "      <td>9.3</td>\n",
       "      <td>0.60</td>\n",
       "      <td>1.62</td>\n",
       "      <td>840</td>\n",
       "    </tr>\n",
       "  </tbody>\n",
       "</table>\n",
       "</div>"
      ],
      "text/plain": [
       "     class  alcohol  malic acid   ash  alcalinity of ash  magnesium  \\\n",
       "172      3    14.16        2.51  2.48               20.0         91   \n",
       "173      3    13.71        5.65  2.45               20.5         95   \n",
       "174      3    13.40        3.91  2.48               23.0        102   \n",
       "175      3    13.27        4.28  2.26               20.0        120   \n",
       "176      3    13.17        2.59  2.37               20.0        120   \n",
       "\n",
       "     total phenols  flavanoids  nonflavanoid phenols  proanthocyanins  \\\n",
       "172           1.68        0.70                  0.44             1.24   \n",
       "173           1.68        0.61                  0.52             1.06   \n",
       "174           1.80        0.75                  0.43             1.41   \n",
       "175           1.59        0.69                  0.43             1.35   \n",
       "176           1.65        0.68                  0.53             1.46   \n",
       "\n",
       "     color intensity   hue  diluted wines  proline  \n",
       "172              9.7  0.62           1.71      660  \n",
       "173              7.7  0.64           1.74      740  \n",
       "174              7.3  0.70           1.56      750  \n",
       "175             10.2  0.59           1.56      835  \n",
       "176              9.3  0.60           1.62      840  "
      ]
     },
     "execution_count": 4,
     "metadata": {},
     "output_type": "execute_result"
    }
   ],
   "source": [
    "dataset.tail()"
   ]
  },
  {
   "cell_type": "markdown",
   "metadata": {},
   "source": [
    "## 1.3 数据统计信息"
   ]
  },
  {
   "cell_type": "code",
   "execution_count": 5,
   "metadata": {},
   "outputs": [
    {
     "name": "stdout",
     "output_type": "stream",
     "text": [
      "<class 'pandas.core.frame.DataFrame'>\n",
      "RangeIndex: 177 entries, 0 to 176\n",
      "Data columns (total 14 columns):\n",
      "class                   177 non-null int64\n",
      "alcohol                 177 non-null float64\n",
      "malic acid              177 non-null float64\n",
      "ash                     177 non-null float64\n",
      "alcalinity of ash       177 non-null float64\n",
      "magnesium               177 non-null int64\n",
      "total phenols           177 non-null float64\n",
      "flavanoids              177 non-null float64\n",
      "nonflavanoid phenols    177 non-null float64\n",
      "proanthocyanins         177 non-null float64\n",
      "color intensity         177 non-null float64\n",
      "hue                     177 non-null float64\n",
      "diluted wines           177 non-null float64\n",
      "proline                 177 non-null int64\n",
      "dtypes: float64(11), int64(3)\n",
      "memory usage: 19.4 KB\n"
     ]
    }
   ],
   "source": [
    "dataset.info()"
   ]
  },
  {
   "cell_type": "markdown",
   "metadata": {},
   "source": [
    "**无空数据，不需要额外处理**"
   ]
  },
  {
   "cell_type": "code",
   "execution_count": 6,
   "metadata": {},
   "outputs": [
    {
     "data": {
      "text/html": [
       "<div>\n",
       "<style scoped>\n",
       "    .dataframe tbody tr th:only-of-type {\n",
       "        vertical-align: middle;\n",
       "    }\n",
       "\n",
       "    .dataframe tbody tr th {\n",
       "        vertical-align: top;\n",
       "    }\n",
       "\n",
       "    .dataframe thead th {\n",
       "        text-align: right;\n",
       "    }\n",
       "</style>\n",
       "<table border=\"1\" class=\"dataframe\">\n",
       "  <thead>\n",
       "    <tr style=\"text-align: right;\">\n",
       "      <th></th>\n",
       "      <th>class</th>\n",
       "      <th>alcohol</th>\n",
       "      <th>malic acid</th>\n",
       "      <th>ash</th>\n",
       "      <th>alcalinity of ash</th>\n",
       "      <th>magnesium</th>\n",
       "      <th>total phenols</th>\n",
       "      <th>flavanoids</th>\n",
       "      <th>nonflavanoid phenols</th>\n",
       "      <th>proanthocyanins</th>\n",
       "      <th>color intensity</th>\n",
       "      <th>hue</th>\n",
       "      <th>diluted wines</th>\n",
       "      <th>proline</th>\n",
       "    </tr>\n",
       "  </thead>\n",
       "  <tbody>\n",
       "    <tr>\n",
       "      <th>count</th>\n",
       "      <td>177.000000</td>\n",
       "      <td>177.000000</td>\n",
       "      <td>177.000000</td>\n",
       "      <td>177.000000</td>\n",
       "      <td>177.000000</td>\n",
       "      <td>177.000000</td>\n",
       "      <td>177.000000</td>\n",
       "      <td>177.000000</td>\n",
       "      <td>177.000000</td>\n",
       "      <td>177.000000</td>\n",
       "      <td>177.000000</td>\n",
       "      <td>177.000000</td>\n",
       "      <td>177.000000</td>\n",
       "      <td>177.000000</td>\n",
       "    </tr>\n",
       "    <tr>\n",
       "      <th>mean</th>\n",
       "      <td>1.932203</td>\n",
       "      <td>12.994237</td>\n",
       "      <td>2.326384</td>\n",
       "      <td>2.364407</td>\n",
       "      <td>19.466667</td>\n",
       "      <td>99.762712</td>\n",
       "      <td>2.296497</td>\n",
       "      <td>2.036441</td>\n",
       "      <td>0.360734</td>\n",
       "      <td>1.592260</td>\n",
       "      <td>5.034689</td>\n",
       "      <td>0.959412</td>\n",
       "      <td>2.617401</td>\n",
       "      <td>747.949153</td>\n",
       "    </tr>\n",
       "    <tr>\n",
       "      <th>std</th>\n",
       "      <td>0.773078</td>\n",
       "      <td>0.809641</td>\n",
       "      <td>1.112355</td>\n",
       "      <td>0.273670</td>\n",
       "      <td>3.327599</td>\n",
       "      <td>14.320209</td>\n",
       "      <td>0.627353</td>\n",
       "      <td>0.997087</td>\n",
       "      <td>0.123904</td>\n",
       "      <td>0.573694</td>\n",
       "      <td>2.303684</td>\n",
       "      <td>0.227710</td>\n",
       "      <td>0.707886</td>\n",
       "      <td>315.484679</td>\n",
       "    </tr>\n",
       "    <tr>\n",
       "      <th>min</th>\n",
       "      <td>1.000000</td>\n",
       "      <td>11.030000</td>\n",
       "      <td>0.740000</td>\n",
       "      <td>1.360000</td>\n",
       "      <td>10.600000</td>\n",
       "      <td>70.000000</td>\n",
       "      <td>0.980000</td>\n",
       "      <td>0.340000</td>\n",
       "      <td>0.130000</td>\n",
       "      <td>0.410000</td>\n",
       "      <td>1.280000</td>\n",
       "      <td>0.480000</td>\n",
       "      <td>1.270000</td>\n",
       "      <td>278.000000</td>\n",
       "    </tr>\n",
       "    <tr>\n",
       "      <th>25%</th>\n",
       "      <td>1.000000</td>\n",
       "      <td>12.360000</td>\n",
       "      <td>1.600000</td>\n",
       "      <td>2.210000</td>\n",
       "      <td>17.200000</td>\n",
       "      <td>88.000000</td>\n",
       "      <td>1.740000</td>\n",
       "      <td>1.220000</td>\n",
       "      <td>0.270000</td>\n",
       "      <td>1.250000</td>\n",
       "      <td>3.210000</td>\n",
       "      <td>0.790000</td>\n",
       "      <td>1.960000</td>\n",
       "      <td>500.000000</td>\n",
       "    </tr>\n",
       "    <tr>\n",
       "      <th>50%</th>\n",
       "      <td>2.000000</td>\n",
       "      <td>13.050000</td>\n",
       "      <td>1.860000</td>\n",
       "      <td>2.360000</td>\n",
       "      <td>19.500000</td>\n",
       "      <td>98.000000</td>\n",
       "      <td>2.360000</td>\n",
       "      <td>2.140000</td>\n",
       "      <td>0.340000</td>\n",
       "      <td>1.560000</td>\n",
       "      <td>4.680000</td>\n",
       "      <td>0.970000</td>\n",
       "      <td>2.780000</td>\n",
       "      <td>675.000000</td>\n",
       "    </tr>\n",
       "    <tr>\n",
       "      <th>75%</th>\n",
       "      <td>3.000000</td>\n",
       "      <td>13.670000</td>\n",
       "      <td>3.030000</td>\n",
       "      <td>2.550000</td>\n",
       "      <td>21.500000</td>\n",
       "      <td>107.000000</td>\n",
       "      <td>2.800000</td>\n",
       "      <td>2.880000</td>\n",
       "      <td>0.430000</td>\n",
       "      <td>1.950000</td>\n",
       "      <td>6.200000</td>\n",
       "      <td>1.120000</td>\n",
       "      <td>3.170000</td>\n",
       "      <td>985.000000</td>\n",
       "    </tr>\n",
       "    <tr>\n",
       "      <th>max</th>\n",
       "      <td>3.000000</td>\n",
       "      <td>14.830000</td>\n",
       "      <td>5.800000</td>\n",
       "      <td>3.230000</td>\n",
       "      <td>30.000000</td>\n",
       "      <td>162.000000</td>\n",
       "      <td>3.880000</td>\n",
       "      <td>5.080000</td>\n",
       "      <td>0.660000</td>\n",
       "      <td>3.580000</td>\n",
       "      <td>13.000000</td>\n",
       "      <td>1.710000</td>\n",
       "      <td>4.000000</td>\n",
       "      <td>1680.000000</td>\n",
       "    </tr>\n",
       "  </tbody>\n",
       "</table>\n",
       "</div>"
      ],
      "text/plain": [
       "            class     alcohol  malic acid         ash  alcalinity of ash  \\\n",
       "count  177.000000  177.000000  177.000000  177.000000         177.000000   \n",
       "mean     1.932203   12.994237    2.326384    2.364407          19.466667   \n",
       "std      0.773078    0.809641    1.112355    0.273670           3.327599   \n",
       "min      1.000000   11.030000    0.740000    1.360000          10.600000   \n",
       "25%      1.000000   12.360000    1.600000    2.210000          17.200000   \n",
       "50%      2.000000   13.050000    1.860000    2.360000          19.500000   \n",
       "75%      3.000000   13.670000    3.030000    2.550000          21.500000   \n",
       "max      3.000000   14.830000    5.800000    3.230000          30.000000   \n",
       "\n",
       "        magnesium  total phenols  flavanoids  nonflavanoid phenols  \\\n",
       "count  177.000000     177.000000  177.000000            177.000000   \n",
       "mean    99.762712       2.296497    2.036441              0.360734   \n",
       "std     14.320209       0.627353    0.997087              0.123904   \n",
       "min     70.000000       0.980000    0.340000              0.130000   \n",
       "25%     88.000000       1.740000    1.220000              0.270000   \n",
       "50%     98.000000       2.360000    2.140000              0.340000   \n",
       "75%    107.000000       2.800000    2.880000              0.430000   \n",
       "max    162.000000       3.880000    5.080000              0.660000   \n",
       "\n",
       "       proanthocyanins  color intensity         hue  diluted wines  \\\n",
       "count       177.000000       177.000000  177.000000     177.000000   \n",
       "mean          1.592260         5.034689    0.959412       2.617401   \n",
       "std           0.573694         2.303684    0.227710       0.707886   \n",
       "min           0.410000         1.280000    0.480000       1.270000   \n",
       "25%           1.250000         3.210000    0.790000       1.960000   \n",
       "50%           1.560000         4.680000    0.970000       2.780000   \n",
       "75%           1.950000         6.200000    1.120000       3.170000   \n",
       "max           3.580000        13.000000    1.710000       4.000000   \n",
       "\n",
       "           proline  \n",
       "count   177.000000  \n",
       "mean    747.949153  \n",
       "std     315.484679  \n",
       "min     278.000000  \n",
       "25%     500.000000  \n",
       "50%     675.000000  \n",
       "75%     985.000000  \n",
       "max    1680.000000  "
      ]
     },
     "execution_count": 6,
     "metadata": {},
     "output_type": "execute_result"
    }
   ],
   "source": [
    "dataset.describe()"
   ]
  },
  {
   "cell_type": "markdown",
   "metadata": {},
   "source": [
    "## 1.4 按类划分"
   ]
  },
  {
   "cell_type": "code",
   "execution_count": 7,
   "metadata": {},
   "outputs": [],
   "source": [
    "class_1st = dataset[dataset['class'] == 1] \n",
    "class_2nd = dataset[dataset['class'] == 2]\n",
    "class_3rd = dataset[dataset['class'] == 3]"
   ]
  },
  {
   "cell_type": "markdown",
   "metadata": {},
   "source": [
    "## 1.5 划分训练集与测试集（各类5/5分，交叉验证）"
   ]
  },
  {
   "cell_type": "code",
   "execution_count": 8,
   "metadata": {},
   "outputs": [],
   "source": [
    "lens = np.array([len(class_1st), len(class_2nd), len(class_3rd)])\n",
    "k = np.uint8(lens * 0.5)\n",
    "\n",
    "class_1st_1 = class_1st[:k[0]]; class_1st_2 = class_1st[k[0]:]\n",
    "class_2nd_1 = class_2nd[:k[1]]; class_2nd_2 = class_2nd[k[1]:]\n",
    "class_3rd_1 = class_3rd[:k[2]]; class_3rd_2 = class_3rd[k[2]:]\n",
    "\n",
    "dataset_1 = pd.concat([class_1st_1, class_2nd_1, class_3rd_1])\n",
    "dataset_2 = pd.concat([class_1st_2, class_2nd_2, class_3rd_2])"
   ]
  },
  {
   "cell_type": "markdown",
   "metadata": {},
   "source": [
    "# 2. 分类器设计"
   ]
  },
  {
   "cell_type": "markdown",
   "metadata": {},
   "source": [
    "## 2.1 sigmoid 函数"
   ]
  },
  {
   "cell_type": "code",
   "execution_count": 9,
   "metadata": {},
   "outputs": [],
   "source": [
    "def sigmoid(x):\n",
    "    return 1 / (1 + np.exp(-x))"
   ]
  },
  {
   "cell_type": "markdown",
   "metadata": {},
   "source": [
    "**计算时可能会发生溢出，但不用理会。比如：**"
   ]
  },
  {
   "cell_type": "code",
   "execution_count": 10,
   "metadata": {
    "scrolled": true
   },
   "outputs": [
    {
     "name": "stderr",
     "output_type": "stream",
     "text": [
      "d:\\program files\\python\\lib\\site-packages\\ipykernel_launcher.py:1: RuntimeWarning: overflow encountered in exp\n",
      "  \"\"\"Entry point for launching an IPython kernel.\n"
     ]
    },
    {
     "data": {
      "text/plain": [
       "inf"
      ]
     },
     "execution_count": 10,
     "metadata": {},
     "output_type": "execute_result"
    }
   ],
   "source": [
    "np.exp(1000)"
   ]
  },
  {
   "cell_type": "markdown",
   "metadata": {},
   "source": [
    "**绘制sigmoid图像**"
   ]
  },
  {
   "cell_type": "code",
   "execution_count": 11,
   "metadata": {
    "scrolled": false
   },
   "outputs": [
    {
     "data": {
      "image/png": "[encoded data removed]",
      "text/plain": [
       "<Figure size 432x288 with 1 Axes>"
      ]
     },
     "metadata": {
      "needs_background": "light"
     },
     "output_type": "display_data"
    }
   ],
   "source": [
    "tmp_x = np.arange(-10.0, 10.0, 0.01)\n",
    "plt.plot(tmp_x, sigmoid(tmp_x), 'r')\n",
    "plt.show()"
   ]
  },
  {
   "cell_type": "markdown",
   "metadata": {},
   "source": [
    "## 2.2 梯度下降法，求带正则项的代价函数的最小 θ"
   ]
  },
  {
   "cell_type": "code",
   "execution_count": 12,
   "metadata": {},
   "outputs": [],
   "source": [
    "def grad_descent(X, Y, λ=0, α=0.01, cycleNum=1000):\n",
    "    \"\"\"\n",
    "    输入参数：\n",
    "        X：mxn 矩阵，np.array类型，数据集里的特征数据\n",
    "        Y：mx1 列向量\n",
    "        α：学习率\n",
    "        n：最大迭代次数\n",
    "        λ：正则项系数\n",
    "    \"\"\"\n",
    "    m, n = X.shape\n",
    "    X = np.hstack([np.ones((m, 1)), X])      # 为X增加偏置列\n",
    "    XT = X.T                                 # 转置X\n",
    "    weights = np.ones((n+1, 1))              # 模型系数向量 weights，nx1\n",
    "\n",
    "    for k in range(cycleNum):               # 不建议使用 np.matrix类\n",
    "        h = sigmoid(np.matmul(X, weights))   # 矩阵乘法，建议使用 np.matmul：  m x 3 ，3 x 1\n",
    "        weights = weights - α * (np.matmul(XT, h - Y) - λ*weights)\n",
    "        \n",
    "    return weights"
   ]
  },
  {
   "cell_type": "markdown",
   "metadata": {},
   "source": [
    "## 2.3 分类器模型"
   ]
  },
  {
   "cell_type": "code",
   "execution_count": 13,
   "metadata": {},
   "outputs": [],
   "source": [
    "def classifier(X, weights):\n",
    "    m, n = X.shape\n",
    "    X = np.hstack([np.ones((m, 1)), X])      # 为X增加偏置列\n",
    "    \n",
    "    exp1 = np.exp(np.matmul(X, weights[0]))\n",
    "    exp2 = np.exp(np.matmul(X, weights[1]))\n",
    "    \n",
    "    categories = []\n",
    "    for e1, e2 in zip(exp1, exp2):\n",
    "        if not (e1 + e2):\n",
    "            category = 3\n",
    "        elif not e1:\n",
    "            category = 2\n",
    "        elif not e2:\n",
    "            category = 1\n",
    "        categories.append(category)\n",
    "\n",
    "    return categories"
   ]
  },
  {
   "cell_type": "markdown",
   "metadata": {},
   "source": [
    "## 2.4 评估函数"
   ]
  },
  {
   "cell_type": "code",
   "execution_count": 14,
   "metadata": {},
   "outputs": [],
   "source": [
    "def evaluate(reallabel, predlabel):\n",
    "    sum = 0\n",
    "    for r, p in zip(reallabel, predlabel):\n",
    "        if r == p:\n",
    "            sum += 1\n",
    "    wrongNum = len(reallabel) - sum\n",
    "    return sum/len(reallabel), wrongNum"
   ]
  },
  {
   "cell_type": "markdown",
   "metadata": {},
   "source": [
    "# 3. 模型训练与评估"
   ]
  },
  {
   "cell_type": "markdown",
   "metadata": {},
   "source": [
    "## 3.1 使用数据集-1 训练"
   ]
  },
  {
   "cell_type": "markdown",
   "metadata": {},
   "source": [
    "**划分X, Y：**"
   ]
  },
  {
   "cell_type": "code",
   "execution_count": 15,
   "metadata": {
    "scrolled": true
   },
   "outputs": [
    {
     "name": "stdout",
     "output_type": "stream",
     "text": [
      "(87, 13) (87, 1)\n"
     ]
    }
   ],
   "source": [
    "x_train = dataset_1.values[:, 1:]\n",
    "y_train = dataset_1.values[:, 0:1]   # 取出单独一列时，要保证是列向量，不然容易出问题\n",
    "print(x_train.shape, y_train.shape)"
   ]
  },
  {
   "cell_type": "markdown",
   "metadata": {},
   "source": [
    "**多次训练，得到各类对应的分类器：**分三类问题，只需要2个分类器"
   ]
  },
  {
   "cell_type": "code",
   "execution_count": 16,
   "metadata": {},
   "outputs": [
    {
     "name": "stderr",
     "output_type": "stream",
     "text": [
      "d:\\program files\\python\\lib\\site-packages\\ipykernel_launcher.py:2: RuntimeWarning: overflow encountered in exp\n",
      "  \n"
     ]
    },
    {
     "name": "stdout",
     "output_type": "stream",
     "text": [
      "[array([[  -161995.51793239],\n",
      "       [ -2042281.82603742],\n",
      "       [  -427243.40032127],\n",
      "       [  -342317.26810786],\n",
      "       [ -4393740.98513655],\n",
      "       [-14891988.62876225],\n",
      "       [  -137611.5363237 ],\n",
      "       [    99316.69754494],\n",
      "       [   -65249.20276917],\n",
      "       [   -77660.64394519],\n",
      "       [  -558957.61382568],\n",
      "       [  -125395.90336584],\n",
      "       [  -175699.44125328],\n",
      "       [  1980041.07162272]]), array([[ 108412.92216678],\n",
      "       [ 841442.98050234],\n",
      "       [-263859.03645383],\n",
      "       [ 133302.19408723],\n",
      "       [1680270.92154285],\n",
      "       [5248461.11917205],\n",
      "       [ 252653.56846353],\n",
      "       [ 251504.18741767],\n",
      "       [  55056.94509405],\n",
      "       [ 198932.0532691 ],\n",
      "       [-506474.85809909],\n",
      "       [ 211706.76566342],\n",
      "       [ 391901.7339552 ],\n",
      "       [-889453.5024769 ]])]\n"
     ]
    }
   ],
   "source": [
    "m, n = x_train.shape\n",
    "weights = []\n",
    "for i in range(2):   # 分三类问题，只需要2个分类器\n",
    "    y_bin = np.zeros_like(y_train)\n",
    "    for j in range(m):\n",
    "        y_bin[j] = 1 if y_train[j] == i+1 else 0\n",
    "    # print(f'\\n第{i+1}类：\\n', y_bin)\n",
    "    w = grad_descent(x_train, y_bin, λ=1)\n",
    "    weights.append(w)\n",
    "print(weights)"
   ]
  },
  {
   "cell_type": "markdown",
   "metadata": {},
   "source": [
    "## 3.2 使用数据集-2 测试、评估"
   ]
  },
  {
   "cell_type": "code",
   "execution_count": 17,
   "metadata": {},
   "outputs": [],
   "source": [
    "x_test = dataset_2.values[:, 1:]\n",
    "y_test = dataset_2.values[:, 0:1]   # 取出单独一列时，要保证是列向量，不然容易出问题"
   ]
  },
  {
   "cell_type": "code",
   "execution_count": 18,
   "metadata": {
    "scrolled": true
   },
   "outputs": [
    {
     "name": "stdout",
     "output_type": "stream",
     "text": [
      "正确率是：0.7666666666666667\n",
      "识别错误个数：21\n"
     ]
    },
    {
     "name": "stderr",
     "output_type": "stream",
     "text": [
      "d:\\program files\\python\\lib\\site-packages\\ipykernel_launcher.py:5: RuntimeWarning: overflow encountered in exp\n",
      "  \"\"\"\n",
      "d:\\program files\\python\\lib\\site-packages\\ipykernel_launcher.py:6: RuntimeWarning: overflow encountered in exp\n",
      "  \n"
     ]
    }
   ],
   "source": [
    "y_pred = classifier(x_test, weights)\n",
    "accuracy, wrongNum = evaluate(y_test, y_pred)\n",
    "print (f'正确率是：{accuracy}\\n识别错误个数：{wrongNum}')"
   ]
  },
  {
   "cell_type": "markdown",
   "metadata": {},
   "source": [
    "## 3.3 使用数据集-2 训练"
   ]
  },
  {
   "cell_type": "code",
   "execution_count": 19,
   "metadata": {},
   "outputs": [
    {
     "name": "stdout",
     "output_type": "stream",
     "text": [
      "(90, 13) (90, 1)\n",
      "[array([[  -164523.60183997],\n",
      "       [ -2072095.37015522],\n",
      "       [  -623827.46772824],\n",
      "       [  -399438.73181269],\n",
      "       [ -4832339.5879722 ],\n",
      "       [-15029674.54513599],\n",
      "       [  -183644.44109035],\n",
      "       [    47110.5891604 ],\n",
      "       [   -88047.93122529],\n",
      "       [  -188726.49364947],\n",
      "       [  -941020.69039929],\n",
      "       [   -94836.3143865 ],\n",
      "       [  -253668.45238249],\n",
      "       [  2119236.19477538]]), array([[  141767.27811921],\n",
      "       [ 1159112.32332429],\n",
      "       [  120963.54805403],\n",
      "       [  248403.04927927],\n",
      "       [ 2710020.30939452],\n",
      "       [ 9034971.88765891],\n",
      "       [  359740.64622265],\n",
      "       [  477189.38473735],\n",
      "       [   52921.39362096],\n",
      "       [  306294.67617898],\n",
      "       [ -733177.61308427],\n",
      "       [  187502.73701751],\n",
      "       [  547919.22991018],\n",
      "       [-1550736.11295956]])]"
     ]
    },
    {
     "name": "stderr",
     "output_type": "stream",
     "text": [
      "d:\\program files\\python\\lib\\site-packages\\ipykernel_launcher.py:2: RuntimeWarning: overflow encountered in exp\n",
      "  \n"
     ]
    },
    {
     "name": "stdout",
     "output_type": "stream",
     "text": [
      "\n"
     ]
    }
   ],
   "source": [
    "x_train = dataset_2.values[:, 1:]\n",
    "y_train = dataset_2.values[:, 0:1]   # 取出单独一列时，要保证是列向量，不然容易出问题\n",
    "print(x_train.shape, y_train.shape)\n",
    "m, n = x_train.shape\n",
    "weights = []\n",
    "for i in range(2):   # 分三类问题，只需要2个分类器\n",
    "    y_bin = np.zeros_like(y_train)\n",
    "    for j in range(m):\n",
    "        y_bin[j] = 1 if y_train[j] == i+1 else 0\n",
    "    # print(f'\\n第{i+1}类：\\n', y_bin)\n",
    "    w = grad_descent(x_train, y_bin, λ=1)\n",
    "    weights.append(w)\n",
    "print(weights)"
   ]
  },
  {
   "cell_type": "markdown",
   "metadata": {},
   "source": [
    "## 3.4 使用数据集-1 测试、评估"
   ]
  },
  {
   "cell_type": "code",
   "execution_count": 20,
   "metadata": {
    "scrolled": true
   },
   "outputs": [
    {
     "name": "stdout",
     "output_type": "stream",
     "text": [
      "正确率是：0.5862068965517241\n",
      "识别错误个数：36\n"
     ]
    },
    {
     "name": "stderr",
     "output_type": "stream",
     "text": [
      "d:\\program files\\python\\lib\\site-packages\\ipykernel_launcher.py:5: RuntimeWarning: overflow encountered in exp\n",
      "  \"\"\"\n",
      "d:\\program files\\python\\lib\\site-packages\\ipykernel_launcher.py:6: RuntimeWarning: overflow encountered in exp\n",
      "  \n"
     ]
    }
   ],
   "source": [
    "x_test = dataset_1.values[:, 1:]\n",
    "y_test = dataset_1.values[:, 0:1]   # 取出单独一列时，要保证是列向量，不然容易出问题\n",
    "y_pred = classifier(x_test, weights)\n",
    "accuracy, wrongNum = evaluate(y_test, y_pred)\n",
    "print (f'正确率是：{accuracy}\\n识别错误个数：{wrongNum}')"
   ]
  },
  {
   "cell_type": "markdown",
   "metadata": {},
   "source": [
    "## 3.5 使用全体数据集"
   ]
  },
  {
   "cell_type": "code",
   "execution_count": 21,
   "metadata": {},
   "outputs": [
    {
     "name": "stdout",
     "output_type": "stream",
     "text": [
      "(177, 13) (177, 1)\n"
     ]
    },
    {
     "name": "stderr",
     "output_type": "stream",
     "text": [
      "d:\\program files\\python\\lib\\site-packages\\ipykernel_launcher.py:2: RuntimeWarning: overflow encountered in exp\n",
      "  \n"
     ]
    },
    {
     "name": "stdout",
     "output_type": "stream",
     "text": [
      "[array([[  -349112.60996919],\n",
      "       [ -4151980.90414322],\n",
      "       [ -1073101.95304051],\n",
      "       [  -767532.39576769],\n",
      "       [ -9296544.66542014],\n",
      "       [-30196341.60770737],\n",
      "       [  -340751.25504111],\n",
      "       [   129497.97671877],\n",
      "       [  -175409.83494413],\n",
      "       [  -284983.74273001],\n",
      "       [ -1479684.81115868],\n",
      "       [  -242199.60737598],\n",
      "       [  -446183.79600316],\n",
      "       [  4094588.69124827]]), array([[  216736.69819733],\n",
      "       [ 1829857.13660472],\n",
      "       [ -212439.04485601],\n",
      "       [  334133.84506839],\n",
      "       [ 4063392.18584927],\n",
      "       [13102679.42031993],\n",
      "       [  581273.93635673],\n",
      "       [  715493.56218924],\n",
      "       [   80846.34154729],\n",
      "       [  468937.44258288],\n",
      "       [-1368522.9144776 ],\n",
      "       [  372029.58817831],\n",
      "       [  909926.53096636],\n",
      "       [-2235098.67299862]])]\n"
     ]
    }
   ],
   "source": [
    "x_train = dataset.values[:, 1:]\n",
    "y_train = dataset.values[:, 0:1]   # 取出单独一列时，要保证是列向量，不然容易出问题\n",
    "print(x_train.shape, y_train.shape)\n",
    "m, n = x_train.shape\n",
    "weights = []\n",
    "for i in range(2):   # 分三类问题，只需要2个分类器\n",
    "    y_bin = np.zeros_like(y_train)\n",
    "    for j in range(m):\n",
    "        y_bin[j] = 1 if y_train[j] == i+1 else 0\n",
    "    # print(f'\\n第{i+1}类：\\n', y_bin)\n",
    "    w = grad_descent(x_train, y_bin, λ=1)\n",
    "    weights.append(w)\n",
    "print(weights)"
   ]
  },
  {
   "cell_type": "code",
   "execution_count": 22,
   "metadata": {},
   "outputs": [
    {
     "name": "stdout",
     "output_type": "stream",
     "text": [
      "正确率是：0.6836158192090396\n",
      "识别错误个数：56\n"
     ]
    },
    {
     "name": "stderr",
     "output_type": "stream",
     "text": [
      "d:\\program files\\python\\lib\\site-packages\\ipykernel_launcher.py:5: RuntimeWarning: overflow encountered in exp\n",
      "  \"\"\"\n",
      "d:\\program files\\python\\lib\\site-packages\\ipykernel_launcher.py:6: RuntimeWarning: overflow encountered in exp\n",
      "  \n"
     ]
    }
   ],
   "source": [
    "x_test = dataset.values[:, 1:]\n",
    "y_test = dataset.values[:, 0:1]   # 取出单独一列时，要保证是列向量，不然容易出问题\n",
    "y_pred = classifier(x_test, weights)\n",
    "accuracy, wrongNum = evaluate(y_test, y_pred)\n",
    "print (f'正确率是：{accuracy}\\n识别错误个数：{wrongNum}')"
   ]
  }
 ],
 "metadata": {
  "kernelspec": {
   "display_name": "Python 3",
   "language": "python",
   "name": "python3"
  },
  "language_info": {
   "codemirror_mode": {
    "name": "ipython",
    "version": 3
   },
   "file_extension": ".py",
   "mimetype": "text/x-python",
   "name": "python",
   "nbconvert_exporter": "python",
   "pygments_lexer": "ipython3",
   "version": "3.6.5"
  }
 },
 "nbformat": 4,
 "nbformat_minor": 2
}
